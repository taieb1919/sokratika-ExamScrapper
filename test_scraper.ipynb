{
  "cells": [
    {
      "cell_type": "code",
      "execution_count": null,
      "metadata": {},
      "outputs": [
        {
          "name": "stdout",
          "output_type": "stream",
          "text": [
            "Installing required packages...\n"
          ]
        }
      ],
      "source": [
        "# Install dependencies if needed\n",
        "import sys\n",
        "import subprocess\n",
        "\n",
        "def install_package(package):\n",
        "    subprocess.check_call([sys.executable, \"-m\", \"pip\", \"install\", package])\n",
        "\n",
        "# Install required packages\n",
        "try:\n",
        "    import selenium\n",
        "    import loguru\n",
        "    import bs4\n",
        "except ImportError:\n",
        "    print(\"Installing required packages...\")\n",
        "    install_package(\"selenium\")\n",
        "    install_package(\"loguru\")\n",
        "    install_package(\"beautifulsoup4\")\n",
        "    install_package(\"lxml\")\n",
        "    print(\"Packages installed successfully!\")\n"
      ]
    },
    {
      "cell_type": "markdown",
      "metadata": {},
      "source": [
        "# Test DNBScraper\n",
        "\n",
        "Ce notebook exécute un test rapide du scraper:\n",
        "\n",
        "1. Importe `DNBScraper`\n",
        "2. Extrait les liens PDF sur la première page uniquement (`max_pages=1`)\n",
        "3. Affiche un résumé (total, années, matières)\n",
        "4. Affiche les 3 premiers liens avec métadonnées\n"
      ]
    },
    {
      "cell_type": "code",
      "execution_count": null,
      "metadata": {},
      "outputs": [
        {
          "ename": "ModuleNotFoundError",
          "evalue": "No module named 'selenium'",
          "output_type": "error",
          "traceback": [
            "\u001b[31m---------------------------------------------------------------------------\u001b[39m",
            "\u001b[31mModuleNotFoundError\u001b[39m                       Traceback (most recent call last)",
            "\u001b[36mCell\u001b[39m\u001b[36m \u001b[39m\u001b[32mIn[1]\u001b[39m\u001b[32m, line 2\u001b[39m\n\u001b[32m      1\u001b[39m \u001b[38;5;66;03m# Imports\u001b[39;00m\n\u001b[32m----> \u001b[39m\u001b[32m2\u001b[39m \u001b[38;5;28;01mfrom\u001b[39;00m\u001b[38;5;250m \u001b[39m\u001b[34;01msrc\u001b[39;00m\u001b[34;01m.\u001b[39;00m\u001b[34;01mscraper\u001b[39;00m\u001b[38;5;250m \u001b[39m\u001b[38;5;28;01mimport\u001b[39;00m DNBScraper\n\u001b[32m      3\u001b[39m \u001b[38;5;28;01mfrom\u001b[39;00m\u001b[38;5;250m \u001b[39m\u001b[34;01msrc\u001b[39;00m\u001b[34;01m.\u001b[39;00m\u001b[34;01mparser\u001b[39;00m\u001b[38;5;250m \u001b[39m\u001b[38;5;28;01mimport\u001b[39;00m MetadataParser\n\u001b[32m      4\u001b[39m \u001b[38;5;28;01mfrom\u001b[39;00m\u001b[38;5;250m \u001b[39m\u001b[34;01mloguru\u001b[39;00m\u001b[38;5;250m \u001b[39m\u001b[38;5;28;01mimport\u001b[39;00m logger\n",
            "\u001b[36mFile \u001b[39m\u001b[32md:\\WORK\\Sokratika\\ExamScrapper\\src\\__init__.py:12\u001b[39m\n\u001b[32m      9\u001b[39m __author__ = \u001b[33m\"\u001b[39m\u001b[33mSokratika\u001b[39m\u001b[33m\"\u001b[39m\n\u001b[32m     10\u001b[39m __email__ = \u001b[33m\"\u001b[39m\u001b[33mcontact@sokratika.com\u001b[39m\u001b[33m\"\u001b[39m\n\u001b[32m---> \u001b[39m\u001b[32m12\u001b[39m \u001b[38;5;28;01mfrom\u001b[39;00m\u001b[38;5;250m \u001b[39m\u001b[34;01msrc\u001b[39;00m\u001b[34;01m.\u001b[39;00m\u001b[34;01mscraper\u001b[39;00m\u001b[38;5;250m \u001b[39m\u001b[38;5;28;01mimport\u001b[39;00m DNBScraper\n\u001b[32m     13\u001b[39m \u001b[38;5;28;01mfrom\u001b[39;00m\u001b[38;5;250m \u001b[39m\u001b[34;01msrc\u001b[39;00m\u001b[34;01m.\u001b[39;00m\u001b[34;01mdownloader\u001b[39;00m\u001b[38;5;250m \u001b[39m\u001b[38;5;28;01mimport\u001b[39;00m PDFDownloader\n\u001b[32m     14\u001b[39m \u001b[38;5;28;01mfrom\u001b[39;00m\u001b[38;5;250m \u001b[39m\u001b[34;01msrc\u001b[39;00m\u001b[34;01m.\u001b[39;00m\u001b[34;01mparser\u001b[39;00m\u001b[38;5;250m \u001b[39m\u001b[38;5;28;01mimport\u001b[39;00m MetadataParser\n",
            "\u001b[36mFile \u001b[39m\u001b[32md:\\WORK\\Sokratika\\ExamScrapper\\src\\scraper.py:18\u001b[39m\n\u001b[32m     15\u001b[39m \u001b[38;5;28;01mfrom\u001b[39;00m\u001b[38;5;250m \u001b[39m\u001b[34;01mloguru\u001b[39;00m\u001b[38;5;250m \u001b[39m\u001b[38;5;28;01mimport\u001b[39;00m logger\n\u001b[32m     16\u001b[39m \u001b[38;5;28;01mfrom\u001b[39;00m\u001b[38;5;250m \u001b[39m\u001b[34;01mbs4\u001b[39;00m\u001b[38;5;250m \u001b[39m\u001b[38;5;28;01mimport\u001b[39;00m BeautifulSoup\n\u001b[32m---> \u001b[39m\u001b[32m18\u001b[39m \u001b[38;5;28;01mfrom\u001b[39;00m\u001b[38;5;250m \u001b[39m\u001b[34;01mselenium\u001b[39;00m\u001b[38;5;250m \u001b[39m\u001b[38;5;28;01mimport\u001b[39;00m webdriver\n\u001b[32m     19\u001b[39m \u001b[38;5;28;01mfrom\u001b[39;00m\u001b[38;5;250m \u001b[39m\u001b[34;01mselenium\u001b[39;00m\u001b[34;01m.\u001b[39;00m\u001b[34;01mwebdriver\u001b[39;00m\u001b[34;01m.\u001b[39;00m\u001b[34;01mcommon\u001b[39;00m\u001b[34;01m.\u001b[39;00m\u001b[34;01mby\u001b[39;00m\u001b[38;5;250m \u001b[39m\u001b[38;5;28;01mimport\u001b[39;00m By\n\u001b[32m     20\u001b[39m \u001b[38;5;28;01mfrom\u001b[39;00m\u001b[38;5;250m \u001b[39m\u001b[34;01mselenium\u001b[39;00m\u001b[34;01m.\u001b[39;00m\u001b[34;01mwebdriver\u001b[39;00m\u001b[34;01m.\u001b[39;00m\u001b[34;01msupport\u001b[39;00m\u001b[34;01m.\u001b[39;00m\u001b[34;01mui\u001b[39;00m\u001b[38;5;250m \u001b[39m\u001b[38;5;28;01mimport\u001b[39;00m WebDriverWait\n",
            "\u001b[31mModuleNotFoundError\u001b[39m: No module named 'selenium'"
          ]
        }
      ],
      "source": [
        "# Imports\n",
        "import sys\n",
        "import os\n",
        "\n",
        "# Add project root to Python path\n",
        "project_root = os.getcwd()\n",
        "if project_root not in sys.path:\n",
        "    sys.path.insert(0, project_root)\n",
        "\n",
        "from src.scraper import DNBScraper\n",
        "from src.parser import MetadataParser\n",
        "from loguru import logger\n",
        "\n",
        "# Optionally, adjust logging level\n",
        "logger.remove()\n",
        "logger.add(lambda msg: print(msg, end=\"\"))\n",
        "\n"
      ]
    },
    {
      "cell_type": "code",
      "execution_count": null,
      "metadata": {},
      "outputs": [],
      "source": [
        "# Create scraper and extract one page\n",
        "scraper = DNBScraper()\n",
        "pdf_links = scraper.extract_pdf_links(max_pages=1)\n",
        "print(f\"Total links found on first page: {len(pdf_links)}\")\n"
      ]
    },
    {
      "cell_type": "code",
      "execution_count": null,
      "metadata": {},
      "outputs": [],
      "source": [
        "# Summary\n",
        "summary = scraper.get_summary_dict()\n",
        "print(\"\\n==== SUMMARY ====\")\n",
        "print(f\"Total PDFs: {summary['total']}\")\n",
        "print(f\"Years: {summary['years']}\")\n",
        "print(f\"Subjects: {summary['subjects']}\")\n"
      ]
    },
    {
      "cell_type": "code",
      "execution_count": null,
      "metadata": {},
      "outputs": [],
      "source": [
        "# Show first 3 links with parsed metadata\n",
        "parser = MetadataParser()\n",
        "for i, link in enumerate(pdf_links[:3], start=1):\n",
        "    meta = parser.parse_url(link['url'], link.get('data_atl_name'))\n",
        "    print(f\"\\nLink #{i}\")\n",
        "    print(f\"URL: {link['url']}\")\n",
        "    print(f\"data-atl-name: {link.get('data_atl_name', '')}\")\n",
        "    print(f\"filename: {meta.get('filename')}\")\n",
        "    print(f\"year: {meta.get('year')}\")\n",
        "    print(f\"subject: {meta.get('subject')}\")\n",
        "    print(f\"session: {meta.get('session')}\")\n",
        "    print(f\"series: {meta.get('series')}\")\n",
        "    print(f\"type: {meta.get('document_type')}\")\n"
      ]
    }
  ],
  "metadata": {
    "kernelspec": {
      "display_name": ".venv",
      "language": "python",
      "name": "python3"
    },
    "language_info": {
      "codemirror_mode": {
        "name": "ipython",
        "version": 3
      },
      "file_extension": ".py",
      "mimetype": "text/x-python",
      "name": "python",
      "nbconvert_exporter": "python",
      "pygments_lexer": "ipython3",
      "version": "3.11.9"
    }
  },
  "nbformat": 4,
  "nbformat_minor": 2
}
